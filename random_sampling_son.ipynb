{
 "cells": [
  {
   "cell_type": "code",
   "execution_count": 38,
   "metadata": {},
   "outputs": [],
   "source": [
    "import pandas as pd\n",
    "from random import sample\n",
    "import time\n",
    "import numpy as np\n",
    "import matplotlib.pyplot as plt"
   ]
  },
  {
   "cell_type": "code",
   "execution_count": 39,
   "metadata": {},
   "outputs": [],
   "source": [
    "retail = pd.read_csv('http://fimi.uantwerpen.be/data/retail.dat')\n",
    "records = retail.values.tolist()\n",
    "for i in range(len(records)):\n",
    "    records[i] = records[i][0].split()"
   ]
  },
  {
   "cell_type": "markdown",
   "metadata": {},
   "source": [
    "### Random samples"
   ]
  },
  {
   "cell_type": "code",
   "execution_count": 40,
   "metadata": {},
   "outputs": [],
   "source": [
    "percentages = [0.2,0.4,0.6,0.8,1]\n",
    "thresholds = [0.01, 0.02, 0.05]\n",
    "samples = []\n",
    "durations = []\n",
    "\n",
    "# Loop through percentages and make random samples \n",
    "for percentage in percentages:\n",
    "    samples.append(records[0:int(len(records)*percentage)])"
   ]
  },
  {
   "cell_type": "markdown",
   "metadata": {},
   "source": [
    "### Apriori algorithm using random samples "
   ]
  },
  {
   "cell_type": "code",
   "execution_count": 41,
   "metadata": {},
   "outputs": [
    {
     "name": "stdout",
     "output_type": "stream",
     "text": [
      "RUNNING 20.0% OF DATASET\n",
      "\tFINISHED RUNNING THRESHOLD 0.01 \t51.20337891578674s\n",
      "\tFINISHED RUNNING THRESHOLD 0.02 \t2.793548107147217s\n",
      "\tFINISHED RUNNING THRESHOLD 0.05 \t0.16144990921020508s\n",
      "COMPUTED 20.0% OF DATASET\t54.158774614334106s\n",
      "----------------------------------------------------------------------\n",
      "RUNNING 40.0% OF DATASET\n",
      "\tFINISHED RUNNING THRESHOLD 0.01 \t83.30137920379639s\n",
      "\tFINISHED RUNNING THRESHOLD 0.02 \t4.557063102722168s\n",
      "\tFINISHED RUNNING THRESHOLD 0.05 \t0.38898205757141113s\n",
      "COMPUTED 40.0% OF DATASET\t88.2488100528717s\n",
      "----------------------------------------------------------------------\n",
      "RUNNING 60.0% OF DATASET\n",
      "\tFINISHED RUNNING THRESHOLD 0.01 \t90.5508508682251s\n",
      "\tFINISHED RUNNING THRESHOLD 0.02 \t5.420576810836792s\n",
      "\tFINISHED RUNNING THRESHOLD 0.05 \t0.3536360263824463s\n",
      "COMPUTED 60.0% OF DATASET\t96.32614207267761s\n",
      "----------------------------------------------------------------------\n",
      "RUNNING 80.0% OF DATASET\n",
      "\tFINISHED RUNNING THRESHOLD 0.01 \t83.93260097503662s\n",
      "\tFINISHED RUNNING THRESHOLD 0.02 \t6.874079942703247s\n",
      "\tFINISHED RUNNING THRESHOLD 0.05 \t0.4085121154785156s\n",
      "COMPUTED 80.0% OF DATASET\t91.21562099456787s\n",
      "----------------------------------------------------------------------\n",
      "RUNNING 100% OF DATASET\n",
      "\tFINISHED RUNNING THRESHOLD 0.01 \t131.6351490020752s\n",
      "\tFINISHED RUNNING THRESHOLD 0.02 \t6.994781970977783s\n",
      "\tFINISHED RUNNING THRESHOLD 0.05 \t0.9082009792327881s\n",
      "COMPUTED 100% OF DATASET\t139.5385890007019s\n",
      "----------------------------------------------------------------------\n",
      "Durations: \t [51.20347499847412, 2.7937138080596924, 0.16158580780029297, 83.30231618881226, 4.557207822799683, 0.3892860412597656, 90.55094003677368, 5.420721054077148, 0.3544809818267822, 83.9327609539032, 6.874177932739258, 0.40868210792541504, 131.6353416442871, 6.994927167892456, 0.9083201885223389]\n"
     ]
    }
   ],
   "source": [
    "c = 0\n",
    "# For loop to iterate trhough samples list\n",
    "for s in samples:  \n",
    "    print(f'RUNNING {percentages[c]*100}% OF DATASET')\n",
    "    # For loop to iterate through thresholds list\n",
    "    for x in thresholds:\n",
    "        items = {}\n",
    "        arr = []\n",
    "        chunk = sample(s,int(0.1*len(s)))\n",
    "        threshold = len(chunk)*x\n",
    "        start = time.time()\n",
    "\n",
    "        for i in range(len(chunk)):\n",
    "            for j in range(len(chunk[i])):\n",
    "                if chunk[i][j] not in items:\n",
    "                    items[chunk[i][j]] = 0 \n",
    "                items[chunk[i][j]] += 1\n",
    "\n",
    "        C1 = pd.DataFrame({\n",
    "                'Itemset': items.keys(),\n",
    "                'Support': items.values()\n",
    "            }) \n",
    "        L1 = C1.loc[(C1['Support']) >= threshold]\n",
    "\n",
    "        for i in L1['Itemset']:\n",
    "            for j in L1['Itemset']:\n",
    "                if i == j:\n",
    "                    pass\n",
    "                else:\n",
    "                    for k in s:\n",
    "                        if i in k and j in k and [i,j,0] not in arr and [j,i,0] not in arr:\n",
    "                            arr.append([i,j,0])\n",
    "\n",
    "        for i in range(len(arr)):\n",
    "            for j in chunk:\n",
    "                if arr[i][0] in j and arr[i][1] in j:\n",
    "                    arr[i][2] += 1\n",
    "\n",
    "        C2 = pd.DataFrame(arr, columns=['Item 1','Item 2','Count'])\n",
    "        L2 = C2.loc[(C2['Count']) >= threshold]\n",
    "        end2 = time.time()\n",
    "        pass_2_time = end2-start\n",
    "        print(f'\\tFINISHED RUNNING THRESHOLD {x} \\t{pass_2_time}s')\n",
    "\n",
    "        end = time.time()\n",
    "        duration = end-start \n",
    "        durations.append(duration)\n",
    "    print(f'COMPUTED {percentages[c]*100}% OF DATASET\\t{durations[-1]+durations[-2]+durations[-3]}s')\n",
    "\n",
    "    c+=1\n",
    "    print('----------------------------------------------------------------------')\n",
    "print(\"Durations: \\t\",durations)"
   ]
  },
  {
   "cell_type": "code",
   "execution_count": 44,
   "metadata": {},
   "outputs": [
    {
     "data": {
      "image/png": "[encoded data removed]",
      "text/plain": [
       "<Figure size 432x288 with 1 Axes>"
      ]
     },
     "metadata": {
      "needs_background": "light"
     },
     "output_type": "display_data"
    }
   ],
   "source": [
    "x = np.arange(20, 120, 20)\n",
    "plt.title(\"Line graph\")\n",
    "plt.xlabel(\"X axis\")\n",
    "plt.ylabel(\"Time\")\n",
    "plt.plot(x, durations[0:13:3], color = \"red\", label = '0.01')\n",
    "plt.plot(x, durations[1:14:3], color = \"green\", label = '0.02')\n",
    "plt.plot(x, durations[2:15:3], color = \"blue\", label = '0.05')\n",
    "plt.legend()\n",
    "plt.show()"
   ]
  },
  {
   "cell_type": "code",
   "execution_count": 72,
   "metadata": {},
   "outputs": [
    {
     "name": "stdout",
     "output_type": "stream",
     "text": [
      "RUNNING 20.0% OF DATASET\n",
      "\tFINISHED RUNNING THRESHOLD 0.01 \t64.60356593132019s\n",
      "\tFINISHED RUNNING THRESHOLD 0.02 \t6.47997522354126s\n",
      "\tFINISHED RUNNING THRESHOLD 0.05 \t0.3270299434661865s\n",
      "COMPUTED 20.0% OF DATASET\t71.41100931167603s\n",
      "----------------------------------------------------------------------\n",
      "RUNNING 40.0% OF DATASET\n",
      "\tFINISHED RUNNING THRESHOLD 0.01 \t171.72325205802917s\n",
      "\tFINISHED RUNNING THRESHOLD 0.02 \t11.21128511428833s\n",
      "\tFINISHED RUNNING THRESHOLD 0.05 \t0.698328971862793s\n",
      "COMPUTED 40.0% OF DATASET\t183.63452911376953s\n",
      "----------------------------------------------------------------------\n",
      "RUNNING 60.0% OF DATASET\n",
      "\tFINISHED RUNNING THRESHOLD 0.01 \t186.54745817184448s\n",
      "\tFINISHED RUNNING THRESHOLD 0.02 \t20.347057104110718s\n",
      "\tFINISHED RUNNING THRESHOLD 0.05 \t1.3154659271240234s\n",
      "COMPUTED 60.0% OF DATASET\t208.21047115325928s\n",
      "----------------------------------------------------------------------\n",
      "RUNNING 80.0% OF DATASET\n",
      "\tFINISHED RUNNING THRESHOLD 0.01 \t237.16444492340088s\n",
      "\tFINISHED RUNNING THRESHOLD 0.02 \t19.1996488571167s\n",
      "\tFINISHED RUNNING THRESHOLD 0.05 \t1.6314032077789307s\n",
      "COMPUTED 80.0% OF DATASET\t257.99578309059143s\n",
      "----------------------------------------------------------------------\n",
      "RUNNING 100% OF DATASET\n",
      "\tFINISHED RUNNING THRESHOLD 0.01 \t321.9036228656769s\n",
      "\tFINISHED RUNNING THRESHOLD 0.02 \t23.624351978302002s\n",
      "\tFINISHED RUNNING THRESHOLD 0.05 \t2.05468487739563s\n",
      "COMPUTED 100% OF DATASET\t347.58312487602234s\n",
      "----------------------------------------------------------------------\n",
      "Durations: \t [64.60370421409607, 6.480147123336792, 0.32715797424316406, 171.72472095489502, 11.211390018463135, 0.698418140411377, 186.54757523536682, 20.347341060638428, 1.3155548572540283, 237.1645429134369, 19.19974708557129, 1.631493091583252, 321.90374398231506, 23.62454605102539, 2.0548348426818848]\n"
     ]
    }
   ],
   "source": [
    "c = 0\n",
    "# For loop to iterate trhough samples list\n",
    "durations2 = []\n",
    "for s in samples:  \n",
    "    print(f'RUNNING {percentages[c]*100}% OF DATASET')\n",
    "    # For loop to iterate through thresholds list\n",
    "    for x in thresholds:\n",
    "        items = {}\n",
    "        arr = []\n",
    "        ranges = [0,0.25,0.50,0.75,1]\n",
    "        chunks = []\n",
    "        for i in range(len(ranges)-1):\n",
    "            chunks.append(s[int(ranges[i]*len(s)):int(ranges[i+1]*len(s))])\n",
    "\n",
    "        threshold = len(s)*x\n",
    "        start = time.time()\n",
    "\n",
    "        for chunk in chunks:\n",
    "            for i in range(len(chunk)):\n",
    "                for j in range(len(chunk[i])):\n",
    "                    if chunk[i][j] not in items:\n",
    "                        items[chunk[i][j]] = 0 \n",
    "                    items[chunk[i][j]] += 1\n",
    "\n",
    "        C1 = pd.DataFrame({\n",
    "                'Itemset': items.keys(),\n",
    "                'Support': items.values()\n",
    "            }) \n",
    "        L1 = C1.loc[(C1['Support']) >= threshold]\n",
    "\n",
    "        for chunk in chunks:\n",
    "            for i in L1['Itemset']:\n",
    "                for j in L1['Itemset']:\n",
    "                    if i == j:\n",
    "                        pass\n",
    "                    else:\n",
    "                        for k in chunk:\n",
    "                            if i in k and j in k and [i,j,0] not in arr and [j,i,0] not in arr:\n",
    "                                arr.append([i,j,0])\n",
    "\n",
    "            for i in range(len(arr)):\n",
    "                for j in chunk:\n",
    "                    if arr[i][0] in j and arr[i][1] in j:\n",
    "                        arr[i][2] += 1\n",
    "\n",
    "        C2 = pd.DataFrame(arr, columns=['Item 1','Item 2','Count'])\n",
    "        L2 = C2.loc[(C2['Count']) >= threshold]\n",
    "\n",
    "        end2 = time.time()\n",
    "        pass_2_time = end2-start\n",
    "        print(f'\\tFINISHED RUNNING THRESHOLD {x} \\t{pass_2_time}s')\n",
    "\n",
    "        end = time.time()\n",
    "        duration = end-start \n",
    "        durations2.append(duration)\n",
    "    print(f'COMPUTED {percentages[c]*100}% OF DATASET\\t{durations2[-1]+durations2[-2]+durations2[-3]}s')\n",
    "\n",
    "    c+=1\n",
    "    print('----------------------------------------------------------------------')\n",
    "print(\"Durations: \\t\",durations2)"
   ]
  },
  {
   "cell_type": "code",
   "execution_count": 73,
   "metadata": {},
   "outputs": [
    {
     "data": {
      "image/png": "[encoded data removed]",
      "text/plain": [
       "<Figure size 432x288 with 1 Axes>"
      ]
     },
     "metadata": {
      "needs_background": "light"
     },
     "output_type": "display_data"
    }
   ],
   "source": [
    "x = np.arange(20, 120, 20)\n",
    "plt.title(\"Line graph\")\n",
    "plt.xlabel(\"Percentage of Dataset\")\n",
    "plt.ylabel(\"Time\")\n",
    "plt.plot(x, durations2[0:13:3], color = \"red\", label = '0.01')\n",
    "plt.plot(x, durations2[1:14:3], color = \"green\", label = '0.02')\n",
    "plt.plot(x, durations2[2:15:3], color = \"blue\", label = '0.05')\n",
    "plt.legend()\n",
    "plt.show()"
   ]
  },
  {
   "cell_type": "code",
   "execution_count": null,
   "metadata": {},
   "outputs": [],
   "source": []
  }
 ],
 "metadata": {
  "interpreter": {
   "hash": "40d3a090f54c6569ab1632332b64b2c03c39dcf918b08424e98f38b5ae0af88f"
  },
  "kernelspec": {
   "display_name": "Python 3.9.7 ('base')",
   "language": "python",
   "name": "python3"
  },
  "language_info": {
   "codemirror_mode": {
    "name": "ipython",
    "version": 3
   },
   "file_extension": ".py",
   "mimetype": "text/x-python",
   "name": "python",
   "nbconvert_exporter": "python",
   "pygments_lexer": "ipython3",
   "version": "3.9.7"
  },
  "orig_nbformat": 4
 },
 "nbformat": 4,
 "nbformat_minor": 2
}
