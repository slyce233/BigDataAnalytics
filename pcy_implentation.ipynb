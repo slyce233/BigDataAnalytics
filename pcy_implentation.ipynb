{
 "cells": [
  {
   "cell_type": "code",
   "execution_count": 106,
   "metadata": {},
   "outputs": [],
   "source": [
    "import pandas as pd\n",
    "import numpy as np\n",
    "from random import sample"
   ]
  },
  {
   "cell_type": "code",
   "execution_count": 66,
   "metadata": {},
   "outputs": [],
   "source": [
    "def h(values):\n",
    "    return sum([int(x) + 6 for x in values]) % 100000\n",
    "    \n",
    "def create_pairs(items):\n",
    "    pairs = []\n",
    "    items = [int(x) for x in items]\n",
    "    items = sorted (items)\n",
    "    for i in range(len(items)):\n",
    "        for j in range(i+1, len(items)):\n",
    "            pairs.append((items[i],items[j]))\n",
    "    return pairs"
   ]
  },
  {
   "cell_type": "code",
   "execution_count": 65,
   "metadata": {},
   "outputs": [],
   "source": [
    "retail = pd.read_csv('http://fimi.uantwerpen.be/data/retail.dat')\n",
    "records = retail.values.tolist()\n",
    "for i in range(len(records)):\n",
    "    records[i] = records[i][0].split()"
   ]
  },
  {
   "cell_type": "code",
   "execution_count": 107,
   "metadata": {},
   "outputs": [],
   "source": [
    "percentages = [0.2,0.4,0.6,0.8,1]\n",
    "thresholds = [0.01, 0.02, 0.05]\n",
    "samples = []\n",
    "durations = []\n",
    "\n",
    "# Loop through percentages and make random samples \n",
    "for percentage in percentages:\n",
    "    samples.append(sample(records,int((percentage)*len(records))))"
   ]
  },
  {
   "cell_type": "code",
   "execution_count": 101,
   "metadata": {},
   "outputs": [],
   "source": [
    "items = {}\n",
    "hash_table = np.zeros(100000)\n",
    "support_threshold = len(records)*0.01\n",
    "\n",
    "for i in range(len(records)):\n",
    "    for j in range(len(records[i])):\n",
    "        if records[i][j] not in items:\n",
    "            items[records[i][j]] = 0 \n",
    "        items[records[i][j]] += 1\n",
    "        pairs = create_pairs(records[i])\n",
    "        for pair in pairs:\n",
    "            hash_table[h(pair)] += 1\n",
    "\n",
    "C1 = pd.DataFrame({\n",
    "    'Itemset': items.keys(),\n",
    "    'Support': items.values()\n",
    "})\n",
    "L1 = C1.loc[(C1['Support']) >= support_threshold]\n",
    "\n",
    "bitmap = np.zeros(100000, dtype=bool)\n",
    "for i in range(len(bitmap)):\n",
    "    bitmap[i] = hash_table[i] >= support_threshold\n",
    "\n",
    "arr = []\n",
    "for i in L1['Itemset']:\n",
    "    for j in L1['Itemset']:\n",
    "        if i == j:\n",
    "            pass\n",
    "        else:\n",
    "            for k in records:\n",
    "                if i in k and j in k and [i,j,0] not in arr and [j,i,0] not in arr:\n",
    "                    arr.append([i,j,0])\n",
    "\n",
    "for i in range(len(arr)):\n",
    "            for j in records:\n",
    "                if arr[i][0] in j and arr[i][1] in j and bitmap[h((arr[i][0],arr[i][1]))]:\n",
    "                    arr[i][2] += 1\n",
    "\n",
    "C2 = pd.DataFrame(arr, columns=['Item 1','Item 2','Count'])\n",
    "L2 = C2.loc[(C2['Count']) >= support_threshold]\n",
    "\n",
    "        "
   ]
  },
  {
   "cell_type": "code",
   "execution_count": null,
   "metadata": {},
   "outputs": [],
   "source": []
  }
 ],
 "metadata": {
  "interpreter": {
   "hash": "40d3a090f54c6569ab1632332b64b2c03c39dcf918b08424e98f38b5ae0af88f"
  },
  "kernelspec": {
   "display_name": "Python 3.9.7 ('base')",
   "language": "python",
   "name": "python3"
  },
  "language_info": {
   "codemirror_mode": {
    "name": "ipython",
    "version": 3
   },
   "file_extension": ".py",
   "mimetype": "text/x-python",
   "name": "python",
   "nbconvert_exporter": "python",
   "pygments_lexer": "ipython3",
   "version": "3.9.7"
  },
  "orig_nbformat": 4
 },
 "nbformat": 4,
 "nbformat_minor": 2
}
