{
 "cells": [
  {
   "cell_type": "code",
   "execution_count": 166,
   "metadata": {},
   "outputs": [],
   "source": [
    "import pandas as pd\n",
    "import numpy as np\n",
    "import time\n",
    "from itertools import combinations"
   ]
  },
  {
   "cell_type": "code",
   "execution_count": 163,
   "metadata": {},
   "outputs": [],
   "source": [
    "def h(values):\n",
    "    return sum([int(x) + 6 for x in values]) % 100000\n",
    "\n",
    "def create_pairs(items):\n",
    "    pairs = []\n",
    "    items = [int(x) for x in items]\n",
    "    items = sorted (items)\n",
    "    for i in range(len(items)):\n",
    "        for j in range(i+1, len(items)):\n",
    "            pairs.append((items[i],items[j]))\n",
    "    return pairs"
   ]
  },
  {
   "cell_type": "code",
   "execution_count": 153,
   "metadata": {},
   "outputs": [],
   "source": [
    "retail = pd.read_csv('http://fimi.uantwerpen.be/data/retail.dat')\n",
    "records = retail.values.tolist()\n",
    "for i in range(len(records)):\n",
    "    records[i] = records[i][0].split()"
   ]
  },
  {
   "cell_type": "code",
   "execution_count": 154,
   "metadata": {},
   "outputs": [],
   "source": [
    "percentages = [0.2,0.4,0.6,0.8,1]\n",
    "thresholds = [0.01, 0.02, 0.05]\n",
    "samples = []\n",
    "durations = []\n",
    "\n",
    "# Loop through percentages and make random samples \n",
    "for percentage in percentages:\n",
    "    samples.append(records[0:int(len(records)*percentage)])"
   ]
  },
  {
   "cell_type": "code",
   "execution_count": 178,
   "metadata": {},
   "outputs": [
    {
     "name": "stdout",
     "output_type": "stream",
     "text": [
      "COMPUTING 20.0% OF DATASET\n",
      "\tFINISHED RUNNING THRESHOLD 0.01 \t191.54964399337769s\n",
      "\tFINISHED RUNNING THRESHOLD 0.02 \t60.42910122871399s\n",
      "\tFINISHED RUNNING THRESHOLD 0.05 \t49.389907121658325s\n",
      "COMPUTED 20.0% OF DATASET\t301.36865234375s\n",
      "----------------------------------------------------------------------\n",
      "COMPUTING 40.0% OF DATASET\n",
      "\tFINISHED RUNNING THRESHOLD 0.01 \t260.7220849990845s\n",
      "\tFINISHED RUNNING THRESHOLD 0.02 \t103.05204367637634s\n",
      "\tFINISHED RUNNING THRESHOLD 0.05 \t100.64083790779114s\n",
      "COMPUTED 40.0% OF DATASET\t464.41496658325195s\n",
      "----------------------------------------------------------------------\n",
      "COMPUTING 60.0% OF DATASET\n",
      "\tFINISHED RUNNING THRESHOLD 0.01 \t309.3484182357788s\n",
      "\tFINISHED RUNNING THRESHOLD 0.02 \t172.04150915145874s\n",
      "\tFINISHED RUNNING THRESHOLD 0.05 \t138.13995385169983s\n",
      "COMPUTED 60.0% OF DATASET\t619.5298812389374s\n",
      "----------------------------------------------------------------------\n",
      "COMPUTING 80.0% OF DATASET\n",
      "\tFINISHED RUNNING THRESHOLD 0.01 \t440.0869679450989s\n",
      "\tFINISHED RUNNING THRESHOLD 0.02 \t266.3823359012604s\n",
      "\tFINISHED RUNNING THRESHOLD 0.05 \t207.9603991508484s\n",
      "COMPUTED 80.0% OF DATASET\t914.4297029972076s\n",
      "----------------------------------------------------------------------\n",
      "COMPUTING 100% OF DATASET\n",
      "\tFINISHED RUNNING THRESHOLD 0.01 \t717.0425381660461s\n",
      "\tFINISHED RUNNING THRESHOLD 0.02 \t327.17708802223206s\n",
      "\tFINISHED RUNNING THRESHOLD 0.05 \t394.2342908382416s\n",
      "COMPUTED 100% OF DATASET\t1438.4539170265198s\n",
      "----------------------------------------------------------------------\n",
      "Durations: \t [168.664705991745, 57.769309997558594, 38.4671151638031, 260.00030303001404, 114.32126808166504, 95.06685900688171, 290.87813687324524, 151.06192994117737, 125.07406497001648, 387.49324011802673, 248.54563689231873, 213.30282282829285, 646.2359848022461, 303.13995909690857, 247.2998058795929, 191.54964399337769, 60.42910122871399, 49.389907121658325, 260.7220849990845, 103.05204367637634, 100.64083790779114, 309.3484182357788, 172.04150915145874, 138.13995385169983, 440.0869679450989, 266.3823359012604, 207.9603991508484, 717.0425381660461, 327.17708802223206, 394.2342908382416]\n"
     ]
    }
   ],
   "source": [
    "c = 0\n",
    "# For loop to iterate trhough samples list\n",
    "for s in samples:\n",
    "    print(f'COMPUTING {percentages[c]*100}% OF DATASET')\n",
    "    for x in thresholds:\n",
    "        items = {}\n",
    "        hash_table = np.zeros(100000)\n",
    "        support_threshold = len(s)*x\n",
    "\n",
    "        start = time.time()\n",
    "        for i in range(len(s)):\n",
    "            for j in range(len(s[i])):\n",
    "                if s[i][j] not in items:\n",
    "                    items[s[i][j]] = 0 \n",
    "                items[s[i][j]] += 1\n",
    "                pairs = combinations(s[i],2)\n",
    "                for pair in pairs:\n",
    "                    hash_table[h(pair)] += 1\n",
    "\n",
    "        C1 = pd.DataFrame({\n",
    "            'Itemset': items.keys(),\n",
    "            'Support': items.values()\n",
    "        })\n",
    "        L1 = C1.loc[(C1['Support']) >= support_threshold]\n",
    "\n",
    "        bitmap = np.zeros(100000, dtype=bool)\n",
    "        for i in range(len(bitmap)):\n",
    "            bitmap[i] = hash_table[i] >= support_threshold\n",
    "\n",
    "        arr = []\n",
    "        for i in L1['Itemset']:\n",
    "            for j in L1['Itemset']:\n",
    "                if i == j:\n",
    "                    pass\n",
    "                else:\n",
    "                    for k in s:\n",
    "                        if i in k and j in k and [i,j,0] not in arr and [j,i,0] not in arr:\n",
    "                            arr.append([i,j,0])\n",
    "\n",
    "        for i in range(len(arr)):\n",
    "                    for j in records:\n",
    "                        if arr[i][0] in j and arr[i][1] in j and bitmap[h((arr[i][0],arr[i][1]))]:\n",
    "                            arr[i][2] += 1\n",
    "\n",
    "        C2 = pd.DataFrame(arr, columns=['Item 1','Item 2','Count'])\n",
    "        L2 = C2.loc[(C2['Count']) >= support_threshold]\n",
    "        end = time.time()\n",
    "        duration = end-start\n",
    "        durations.append(duration)\n",
    "        print(f'\\tFINISHED RUNNING THRESHOLD {x} \\t{duration}s')\n",
    "    print(f'COMPUTED {percentages[c]*100}% OF DATASET\\t{durations[-1]+durations[-2]+durations[-3]}s')    \n",
    "    c+=1\n",
    "    print('----------------------------------------------------------------------')\n",
    "print(\"Durations: \\t\",durations)\n",
    "\n",
    "        "
   ]
  },
  {
   "cell_type": "code",
   "execution_count": null,
   "metadata": {},
   "outputs": [],
   "source": []
  }
 ],
 "metadata": {
  "interpreter": {
   "hash": "40d3a090f54c6569ab1632332b64b2c03c39dcf918b08424e98f38b5ae0af88f"
  },
  "kernelspec": {
   "display_name": "Python 3.9.7 ('base')",
   "language": "python",
   "name": "python3"
  },
  "language_info": {
   "codemirror_mode": {
    "name": "ipython",
    "version": 3
   },
   "file_extension": ".py",
   "mimetype": "text/x-python",
   "name": "python",
   "nbconvert_exporter": "python",
   "pygments_lexer": "ipython3",
   "version": "3.9.7"
  },
  "orig_nbformat": 4
 },
 "nbformat": 4,
 "nbformat_minor": 2
}
