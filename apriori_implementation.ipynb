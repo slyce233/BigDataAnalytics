{
 "cells": [
  {
   "cell_type": "code",
   "execution_count": 278,
   "metadata": {},
   "outputs": [],
   "source": [
    "import pandas as pd\n",
    "from random import sample\n",
    "import numpy as np\n",
    "import time"
   ]
  },
  {
   "cell_type": "code",
   "execution_count": 279,
   "metadata": {},
   "outputs": [],
   "source": [
    "retail = pd.read_csv('http://fimi.uantwerpen.be/data/retail.dat')"
   ]
  },
  {
   "cell_type": "code",
   "execution_count": 280,
   "metadata": {},
   "outputs": [],
   "source": [
    "records = retail.values.tolist()\n",
    "for i in range(len(records)):\n",
    "    records[i] = records[i][0].split()"
   ]
  },
  {
   "cell_type": "code",
   "execution_count": 281,
   "metadata": {},
   "outputs": [],
   "source": [
    "percentages = [20,40,60,80,100]\n",
    "samples = []\n",
    "durations = []\n",
    "for percentage in percentages:\n",
    "    samples.append(sample(records,int((percentage/100)*len(records))))"
   ]
  },
  {
   "cell_type": "code",
   "execution_count": 282,
   "metadata": {},
   "outputs": [
    {
     "name": "stdout",
     "output_type": "stream",
     "text": [
      "Durations: \t [53.166778802871704, 122.22596096992493, 203.72789311408997, 288.46519017219543, 373.8053538799286]\n"
     ]
    }
   ],
   "source": [
    "for dataset in samples:\n",
    "    items = []\n",
    "    count_unique = []\n",
    "    arr = []\n",
    "    threshold = len(dataset)*0.01\n",
    "\n",
    "    start = time.time()\n",
    "    for i in range(len(dataset)):\n",
    "        for j in range(len(dataset[i])):\n",
    "            items.append(dataset[i][j])\n",
    "\n",
    "    unique_items = list(set(items))\n",
    "\n",
    "    for val in (unique_items):\n",
    "        count_unique.append((val, items.count(val)))\n",
    "\n",
    "    C1 = pd.DataFrame(count_unique, columns=[\"Itemset\", \"Support\"])\n",
    "    L1 = C1.loc[(C1['Support']) >= threshold]\n",
    "\n",
    "    for i in L1['Itemset']:\n",
    "        for j in L1['Itemset']:\n",
    "            if i == j:\n",
    "                pass\n",
    "            else:\n",
    "                for k in dataset:\n",
    "                    if i in k and j in k and [i,j,0] not in arr:\n",
    "                        arr.append([i,j,0])\n",
    "\n",
    "    for i in range(len(arr)):\n",
    "        for j in dataset:\n",
    "            if arr[i][0] in j and arr[i][1] in j:\n",
    "                arr[i][2] += 1\n",
    "\n",
    "    C2 = pd.DataFrame(arr, columns=['Item 1','Item 2','Count'])\n",
    "    L2 = C2.loc[(C2['Count']) >= threshold]\n",
    "\n",
    "    end = time.time()\n",
    "    duration = end-start \n",
    "    durations.append(duration)\n",
    "print(\"Durations: \\t\",durations)\n"
   ]
  }
 ],
 "metadata": {
  "interpreter": {
   "hash": "40d3a090f54c6569ab1632332b64b2c03c39dcf918b08424e98f38b5ae0af88f"
  },
  "kernelspec": {
   "display_name": "Python 3.9.7 64-bit ('base': conda)",
   "language": "python",
   "name": "python3"
  },
  "language_info": {
   "codemirror_mode": {
    "name": "ipython",
    "version": 3
   },
   "file_extension": ".py",
   "mimetype": "text/x-python",
   "name": "python",
   "nbconvert_exporter": "python",
   "pygments_lexer": "ipython3",
   "version": "3.9.7"
  },
  "orig_nbformat": 4
 },
 "nbformat": 4,
 "nbformat_minor": 2
}
