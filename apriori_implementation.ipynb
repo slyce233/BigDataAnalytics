{
 "cells": [
  {
   "cell_type": "code",
   "execution_count": 1,
   "metadata": {},
   "outputs": [],
   "source": [
    "import pandas as pd\n",
    "import time\n",
    "import numpy as np\n",
    "import matplotlib.pyplot as plt"
   ]
  },
  {
   "cell_type": "code",
   "execution_count": 2,
   "metadata": {},
   "outputs": [],
   "source": [
    "retail = pd.read_csv('http://fimi.uantwerpen.be/data/retail.dat')\n",
    "records = retail.values.tolist()\n",
    "for i in range(len(records)):\n",
    "    records[i] = records[i][0].split()"
   ]
  },
  {
   "cell_type": "code",
   "execution_count": 211,
   "metadata": {},
   "outputs": [],
   "source": [
    "netflix = pd.read_csv('netflix.data')\n",
    "records2 = netflix.values.tolist()\n",
    "for i in range(len(records2)):\n",
    "    records2[i] = records2[i][0].split()"
   ]
  },
  {
   "cell_type": "code",
   "execution_count": 3,
   "metadata": {},
   "outputs": [],
   "source": [
    "percentages = [0.2,0.4,0.6,0.8,1]\n",
    "thresholds = [0.01, 0.02, 0.05]\n",
    "samples = []\n",
    "durations = []\n",
    "\n",
    "# Loop through percentages and make random samples \n",
    "for percentage in percentages:\n",
    "    samples.append(records[0:int(len(records)*percentage)])"
   ]
  },
  {
   "cell_type": "code",
   "execution_count": 214,
   "metadata": {},
   "outputs": [],
   "source": [
    "percentages = [0.2,0.4,0.6,0.8,1]\n",
    "thresholds = [0.01, 0.02, 0.05]\n",
    "samples2 = []\n",
    "durations2 = []\n",
    "\n",
    "# Loop through percentages and make random samples \n",
    "for percentage in percentages:\n",
    "    samples2.append(records2[0:int(len(records2)*percentage)])"
   ]
  },
  {
   "cell_type": "code",
   "execution_count": 4,
   "metadata": {},
   "outputs": [
    {
     "name": "stdout",
     "output_type": "stream",
     "text": [
      "COMPUTING 20.0% OF DATASET\n",
      "\tFINISHED RUNNING THRESHOLD 0.01 \t52.759175062179565s\n",
      "\tFINISHED RUNNING THRESHOLD 0.02 \t4.098776817321777s\n",
      "\tFINISHED RUNNING THRESHOLD 0.05 \t0.2390129566192627s\n",
      "COMPUTED 20.0% OF DATASET\t57.097296714782715s\n",
      "----------------------------------------------------------------------\n",
      "COMPUTING 40.0% OF DATASET\n",
      "\tFINISHED RUNNING THRESHOLD 0.01 \t72.7532799243927s\n",
      "\tFINISHED RUNNING THRESHOLD 0.02 \t5.839694976806641s\n",
      "\tFINISHED RUNNING THRESHOLD 0.05 \t0.4509561061859131s\n",
      "COMPUTED 40.0% OF DATASET\t79.04430317878723s\n",
      "----------------------------------------------------------------------\n",
      "COMPUTING 60.0% OF DATASET\n",
      "\tFINISHED RUNNING THRESHOLD 0.01 \t89.07562184333801s\n",
      "\tFINISHED RUNNING THRESHOLD 0.02 \t8.940726041793823s\n",
      "\tFINISHED RUNNING THRESHOLD 0.05 \t0.84114670753479s\n",
      "COMPUTED 60.0% OF DATASET\t98.85782814025879s\n",
      "----------------------------------------------------------------------\n",
      "COMPUTING 80.0% OF DATASET\n",
      "\tFINISHED RUNNING THRESHOLD 0.01 \t117.73156309127808s\n",
      "\tFINISHED RUNNING THRESHOLD 0.02 \t10.87900710105896s\n",
      "\tFINISHED RUNNING THRESHOLD 0.05 \t1.1752429008483887s\n",
      "COMPUTED 80.0% OF DATASET\t129.78623604774475s\n",
      "----------------------------------------------------------------------\n",
      "COMPUTING 100% OF DATASET\n",
      "\tFINISHED RUNNING THRESHOLD 0.01 \t180.1387059688568s\n",
      "\tFINISHED RUNNING THRESHOLD 0.02 \t15.215754270553589s\n",
      "\tFINISHED RUNNING THRESHOLD 0.05 \t2.2283079624176025s\n",
      "COMPUTED 100% OF DATASET\t197.58338117599487s\n",
      "----------------------------------------------------------------------\n",
      "Durations: \t [52.75928497314453, 4.098910808563232, 0.23910093307495117, 72.75345396995544, 5.839786052703857, 0.4510631561279297, 89.07572793960571, 8.94081711769104, 0.8412830829620361, 117.73170709609985, 10.879150867462158, 1.1753780841827393, 180.1388499736786, 15.215882301330566, 2.2286489009857178]\n"
     ]
    }
   ],
   "source": [
    "c = 0\n",
    "# For loop to iterate trhough samples list\n",
    "for s in samples:  \n",
    "    print(f'COMPUTING {percentages[c]*100}% OF DATASET')\n",
    "    # For loop to iterate through thresholds list\n",
    "    for x in thresholds:\n",
    "        items = {}\n",
    "        arr = []\n",
    "        threshold = len(s)*x\n",
    "        start = time.time()\n",
    "\n",
    "        for i in range(len(s)):\n",
    "            for j in range(len(s[i])):\n",
    "                if s[i][j] not in items:\n",
    "                    items[s[i][j]] = 0 \n",
    "                items[s[i][j]] += 1\n",
    "\n",
    "        C1 = pd.DataFrame({\n",
    "                'Itemset': items.keys(),\n",
    "                'Support': items.values()\n",
    "            }) \n",
    "        L1 = C1.loc[(C1['Support']) >= threshold]\n",
    "\n",
    "        for i in L1['Itemset']:\n",
    "            for j in L1['Itemset']:\n",
    "                if i == j:\n",
    "                    pass\n",
    "                else:\n",
    "                    for k in s:\n",
    "                        if i in k and j in k and [i,j,0] not in arr and [j,i,0] not in arr:\n",
    "                            arr.append([i,j,0])\n",
    "\n",
    "        for i in range(len(arr)):\n",
    "            for j in s:\n",
    "                if arr[i][0] in j and arr[i][1] in j:\n",
    "                    arr[i][2] += 1\n",
    "\n",
    "        C2 = pd.DataFrame(arr, columns=['Item 1','Item 2','Count'])\n",
    "        L2 = C2.loc[(C2['Count']) >= threshold]\n",
    "        end2 = time.time()\n",
    "        pass_2_time = end2-start\n",
    "        print(f'\\tFINISHED RUNNING THRESHOLD {x} \\t{pass_2_time}s')\n",
    "\n",
    "        end = time.time()\n",
    "        duration = end-start \n",
    "        durations.append(duration)\n",
    "    print(f'COMPUTED {percentages[c]*100}% OF DATASET\\t{durations[-1]+durations[-2]+durations[-3]}s')\n",
    "\n",
    "    c+=1\n",
    "    print('----------------------------------------------------------------------')\n",
    "print(\"Durations: \\t\",durations)\n"
   ]
  },
  {
   "cell_type": "code",
   "execution_count": 7,
   "metadata": {},
   "outputs": [
    {
     "data": {
      "image/png": "[encoded data removed]",
      "text/plain": [
       "<Figure size 432x288 with 1 Axes>"
      ]
     },
     "metadata": {
      "needs_background": "light"
     },
     "output_type": "display_data"
    }
   ],
   "source": [
    "x = np.arange(0.2, 1.2, 0.2)\n",
    "plt.title(\"Line graph\")\n",
    "plt.xlabel(\"Percentage of Dataset\")\n",
    "plt.ylabel(\"Time\")\n",
    "plt.plot(x, durations[0:13:3], color = \"red\", label = '0.01')\n",
    "plt.plot(x, durations[1:14:3], color = \"green\", label = '0.02')\n",
    "plt.plot(x, durations[2:15:3], color = \"blue\", label = '0.05')\n",
    "plt.legend()\n",
    "plt.show()"
   ]
  }
 ],
 "metadata": {
  "interpreter": {
   "hash": "40d3a090f54c6569ab1632332b64b2c03c39dcf918b08424e98f38b5ae0af88f"
  },
  "kernelspec": {
   "display_name": "Python 3.9.7 64-bit ('base': conda)",
   "language": "python",
   "name": "python3"
  },
  "language_info": {
   "codemirror_mode": {
    "name": "ipython",
    "version": 3
   },
   "file_extension": ".py",
   "mimetype": "text/x-python",
   "name": "python",
   "nbconvert_exporter": "python",
   "pygments_lexer": "ipython3",
   "version": "3.9.7"
  },
  "orig_nbformat": 4
 },
 "nbformat": 4,
 "nbformat_minor": 2
}
