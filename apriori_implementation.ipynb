{
 "cells": [
  {
   "cell_type": "code",
   "execution_count": 165,
   "metadata": {},
   "outputs": [],
   "source": [
    "import pandas as pd\n",
    "from random import sample\n",
    "import time"
   ]
  },
  {
   "cell_type": "code",
   "execution_count": 166,
   "metadata": {},
   "outputs": [],
   "source": [
    "retail = pd.read_csv('http://fimi.uantwerpen.be/data/retail.dat')\n",
    "records = retail.values.tolist()\n",
    "for i in range(len(records)):\n",
    "    records[i] = records[i][0].split()"
   ]
  },
  {
   "cell_type": "code",
   "execution_count": 167,
   "metadata": {},
   "outputs": [],
   "source": [
    "percentages = [0.2,0.4,0.6,0.8,1]\n",
    "thresholds = [0.01, 0.02, 0.05]\n",
    "samples = []\n",
    "durations = []\n",
    "\n",
    "# Loop through percentages and make random samples \n",
    "for percentage in percentages:\n",
    "    samples.append(sample(records,int((percentage)*len(records))))"
   ]
  },
  {
   "cell_type": "code",
   "execution_count": 168,
   "metadata": {},
   "outputs": [
    {
     "name": "stdout",
     "output_type": "stream",
     "text": [
      "RUNNING 20.0% OF DATASET\n",
      "\tFINISHED RUNNING THRESHOLD 0.01 \t81.57660222053528s\n",
      "\tFINISHED RUNNING THRESHOLD 0.02 \t5.398025035858154s\n",
      "\tFINISHED RUNNING THRESHOLD 0.05 \t0.5848798751831055s\n",
      "COMPUTED 20.0% OF DATASET\t87.56017923355103s\n",
      "----------------------------------------------------------------------\n",
      "RUNNING 40.0% OF DATASET\n",
      "\tFINISHED RUNNING THRESHOLD 0.01 \t154.6333029270172s\n",
      "\tFINISHED RUNNING THRESHOLD 0.02 \t11.496532917022705s\n",
      "\tFINISHED RUNNING THRESHOLD 0.05 \t1.2182469367980957s\n",
      "COMPUTED 40.0% OF DATASET\t167.34854388237s\n",
      "----------------------------------------------------------------------\n",
      "RUNNING 60.0% OF DATASET\n",
      "\tFINISHED RUNNING THRESHOLD 0.01 \t235.48939323425293s\n",
      "\tFINISHED RUNNING THRESHOLD 0.02 \t19.404515981674194s\n",
      "\tFINISHED RUNNING THRESHOLD 0.05 \t2.1706130504608154s\n",
      "COMPUTED 60.0% OF DATASET\t257.0648980140686s\n",
      "----------------------------------------------------------------------\n",
      "RUNNING 80.0% OF DATASET\n",
      "\tFINISHED RUNNING THRESHOLD 0.01 \t376.972452878952s\n",
      "\tFINISHED RUNNING THRESHOLD 0.02 \t26.95273184776306s\n",
      "\tFINISHED RUNNING THRESHOLD 0.05 \t2.538163900375366s\n",
      "COMPUTED 80.0% OF DATASET\t406.46378803253174s\n",
      "----------------------------------------------------------------------\n",
      "RUNNING 100% OF DATASET\n",
      "\tFINISHED RUNNING THRESHOLD 0.01 \t473.2184748649597s\n",
      "\tFINISHED RUNNING THRESHOLD 0.02 \t36.1571888923645s\n",
      "\tFINISHED RUNNING THRESHOLD 0.05 \t3.3422369956970215s\n",
      "COMPUTED 100% OF DATASET\t512.7197029590607s\n",
      "----------------------------------------------------------------------\n",
      "Durations: \t [81.57676410675049, 5.3984410762786865, 0.5849740505218506, 154.63339591026306, 11.49680495262146, 1.2183430194854736, 235.4894881248474, 19.40461277961731, 2.170797109603882, 376.97265791893005, 26.95285391807556, 2.538276195526123, 473.21986293792725, 36.15746784210205, 3.342372179031372]\n"
     ]
    }
   ],
   "source": [
    "c = 0\n",
    "# For loop to iterate trhough samples list\n",
    "for s in samples:  \n",
    "    print(f'RUNNING {percentages[c]*100}% OF DATASET')\n",
    "    # For loop to iterate through thresholds list\n",
    "    for x in thresholds:\n",
    "        items = {}\n",
    "        arr = []\n",
    "        threshold = len(s)*x\n",
    "        start = time.time()\n",
    "\n",
    "        for i in range(len(s)):\n",
    "            for j in range(len(s[i])):\n",
    "                if s[i][j] not in items:\n",
    "                    items[s[i][j]] = 0 \n",
    "                items[s[i][j]] += 1\n",
    "\n",
    "        C1 = pd.DataFrame({\n",
    "                'Itemset': items.keys(),\n",
    "                'Support': items.values()\n",
    "            }) \n",
    "        L1 = C1.loc[(C1['Support']) >= threshold]\n",
    "\n",
    "        for i in L1['Itemset']:\n",
    "            for j in L1['Itemset']:\n",
    "                if i == j:\n",
    "                    pass\n",
    "                else:\n",
    "                    for k in s:\n",
    "                        if i in k and j in k and [i,j,0] not in arr and [j,i,0] not in arr:\n",
    "                            arr.append([i,j,0])\n",
    "\n",
    "        for i in range(len(arr)):\n",
    "            for j in s:\n",
    "                if arr[i][0] in j and arr[i][1] in j:\n",
    "                    arr[i][2] += 1\n",
    "\n",
    "        C2 = pd.DataFrame(arr, columns=['Item 1','Item 2','Count'])\n",
    "        L2 = C2.loc[(C2['Count']) >= threshold]\n",
    "        end2 = time.time()\n",
    "        pass_2_time = end2-start\n",
    "        print(f'\\tFINISHED RUNNING THRESHOLD {x} \\t{pass_2_time}s')\n",
    "\n",
    "        end = time.time()\n",
    "        duration = end-start \n",
    "        durations.append(duration)\n",
    "    print(f'COMPUTED {percentages[c]*100}% OF DATASET\\t{durations[-1]+durations[-2]+durations[-3]}s')\n",
    "\n",
    "    c+=1\n",
    "    print('----------------------------------------------------------------------')\n",
    "print(\"Durations: \\t\",durations)\n"
   ]
  },
  {
   "cell_type": "code",
   "execution_count": null,
   "metadata": {},
   "outputs": [],
   "source": []
  }
 ],
 "metadata": {
  "interpreter": {
   "hash": "40d3a090f54c6569ab1632332b64b2c03c39dcf918b08424e98f38b5ae0af88f"
  },
  "kernelspec": {
   "display_name": "Python 3.9.7 64-bit ('base': conda)",
   "language": "python",
   "name": "python3"
  },
  "language_info": {
   "codemirror_mode": {
    "name": "ipython",
    "version": 3
   },
   "file_extension": ".py",
   "mimetype": "text/x-python",
   "name": "python",
   "nbconvert_exporter": "python",
   "pygments_lexer": "ipython3",
   "version": "3.9.7"
  },
  "orig_nbformat": 4
 },
 "nbformat": 4,
 "nbformat_minor": 2
}
