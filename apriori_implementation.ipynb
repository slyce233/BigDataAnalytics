{
 "cells": [
  {
   "cell_type": "code",
   "execution_count": 203,
   "metadata": {},
   "outputs": [],
   "source": [
    "import pandas as pd\n",
    "import time"
   ]
  },
  {
   "cell_type": "code",
   "execution_count": 204,
   "metadata": {},
   "outputs": [],
   "source": [
    "retail = pd.read_csv('http://fimi.uantwerpen.be/data/retail.dat')\n",
    "records = retail.values.tolist()\n",
    "for i in range(len(records)):\n",
    "    records[i] = records[i][0].split()"
   ]
  },
  {
   "cell_type": "code",
   "execution_count": 209,
   "metadata": {},
   "outputs": [],
   "source": [
    "netflix = pd.read_csv('netflix.data')"
   ]
  },
  {
   "cell_type": "code",
   "execution_count": 205,
   "metadata": {},
   "outputs": [],
   "source": [
    "percentages = [0.2,0.4,0.6,0.8,1]\n",
    "thresholds = [0.01, 0.02, 0.05]\n",
    "samples = []\n",
    "durations = []\n",
    "\n",
    "# Loop through percentages and make random samples \n",
    "for percentage in percentages:\n",
    "    samples.append(records[0:int(len(records)*percentage)])"
   ]
  },
  {
   "cell_type": "code",
   "execution_count": 208,
   "metadata": {},
   "outputs": [
    {
     "name": "stdout",
     "output_type": "stream",
     "text": [
      "COMPUTING 20.0% OF DATASET\n",
      "\tFINISHED RUNNING THRESHOLD 0.01 \t55.20288705825806s\n",
      "\tFINISHED RUNNING THRESHOLD 0.02 \t4.252239227294922s\n",
      "\tFINISHED RUNNING THRESHOLD 0.05 \t0.23947405815124512s\n",
      "COMPUTED 20.0% OF DATASET\t59.695720195770264s\n",
      "----------------------------------------------------------------------\n",
      "COMPUTING 40.0% OF DATASET\n",
      "\tFINISHED RUNNING THRESHOLD 0.01 \t99.23429298400879s\n",
      "\tFINISHED RUNNING THRESHOLD 0.02 \t10.251353740692139s\n",
      "\tFINISHED RUNNING THRESHOLD 0.05 \t0.9470491409301758s\n",
      "COMPUTED 40.0% OF DATASET\t110.43312382698059s\n",
      "----------------------------------------------------------------------\n",
      "COMPUTING 60.0% OF DATASET\n",
      "\tFINISHED RUNNING THRESHOLD 0.01 \t139.86732411384583s\n",
      "\tFINISHED RUNNING THRESHOLD 0.02 \t12.732999801635742s\n",
      "\tFINISHED RUNNING THRESHOLD 0.05 \t1.1813457012176514s\n",
      "COMPUTED 60.0% OF DATASET\t153.78201842308044s\n",
      "----------------------------------------------------------------------\n",
      "COMPUTING 80.0% OF DATASET\n",
      "\tFINISHED RUNNING THRESHOLD 0.01 \t176.5511929988861s\n",
      "\tFINISHED RUNNING THRESHOLD 0.02 \t16.501620054244995s\n",
      "\tFINISHED RUNNING THRESHOLD 0.05 \t2.2638840675354004s\n",
      "COMPUTED 80.0% OF DATASET\t195.3177351951599s\n",
      "----------------------------------------------------------------------\n",
      "COMPUTING 100% OF DATASET\n",
      "\tFINISHED RUNNING THRESHOLD 0.01 \t241.34724402427673s\n",
      "\tFINISHED RUNNING THRESHOLD 0.02 \t31.444705963134766s\n",
      "\tFINISHED RUNNING THRESHOLD 0.05 \t3.2300431728363037s\n",
      "COMPUTED 100% OF DATASET\t276.0311710834503s\n",
      "----------------------------------------------------------------------\n",
      "Durations: \t [47.66357088088989, 4.4115190505981445, 0.22035670280456543, 112.05252885818481, 10.28529405593872, 0.8810992240905762, 132.62764382362366, 14.797753095626831, 1.2200629711151123, 162.12282705307007, 16.470181941986084, 1.7549281120300293, 252.3366768360138, 19.331129789352417, 2.1809158325195312, 55.203644037246704, 4.25237512588501, 0.2397010326385498, 99.23446393013, 10.251443862915039, 0.9472160339355469, 139.8674237728119, 12.73312783241272, 1.181466817855835, 176.55130696296692, 16.5021071434021, 2.2643210887908936, 241.3504090309143, 31.44680118560791, 3.2339608669281006]\n"
     ]
    }
   ],
   "source": [
    "c = 0\n",
    "# For loop to iterate trhough samples list\n",
    "for s in samples:  \n",
    "    print(f'COMPUTING {percentages[c]*100}% OF DATASET')\n",
    "    # For loop to iterate through thresholds list\n",
    "    for x in thresholds:\n",
    "        items = {}\n",
    "        arr = []\n",
    "        threshold = len(s)*x\n",
    "        start = time.time()\n",
    "\n",
    "        for i in range(len(s)):\n",
    "            for j in range(len(s[i])):\n",
    "                if s[i][j] not in items:\n",
    "                    items[s[i][j]] = 0 \n",
    "                items[s[i][j]] += 1\n",
    "\n",
    "        C1 = pd.DataFrame({\n",
    "                'Itemset': items.keys(),\n",
    "                'Support': items.values()\n",
    "            }) \n",
    "        L1 = C1.loc[(C1['Support']) >= threshold]\n",
    "\n",
    "        for i in L1['Itemset']:\n",
    "            for j in L1['Itemset']:\n",
    "                if i == j:\n",
    "                    pass\n",
    "                else:\n",
    "                    for k in s:\n",
    "                        if i in k and j in k and [i,j,0] not in arr and [j,i,0] not in arr:\n",
    "                            arr.append([i,j,0])\n",
    "\n",
    "        for i in range(len(arr)):\n",
    "            for j in s:\n",
    "                if arr[i][0] in j and arr[i][1] in j:\n",
    "                    arr[i][2] += 1\n",
    "\n",
    "        C2 = pd.DataFrame(arr, columns=['Item 1','Item 2','Count'])\n",
    "        L2 = C2.loc[(C2['Count']) >= threshold]\n",
    "        end2 = time.time()\n",
    "        pass_2_time = end2-start\n",
    "        print(f'\\tFINISHED RUNNING THRESHOLD {x} \\t{pass_2_time}s')\n",
    "\n",
    "        end = time.time()\n",
    "        duration = end-start \n",
    "        durations.append(duration)\n",
    "    print(f'COMPUTED {percentages[c]*100}% OF DATASET\\t{durations[-1]+durations[-2]+durations[-3]}s')\n",
    "\n",
    "    c+=1\n",
    "    print('----------------------------------------------------------------------')\n",
    "print(\"Durations: \\t\",durations)\n"
   ]
  },
  {
   "cell_type": "code",
   "execution_count": null,
   "metadata": {},
   "outputs": [],
   "source": []
  }
 ],
 "metadata": {
  "interpreter": {
   "hash": "40d3a090f54c6569ab1632332b64b2c03c39dcf918b08424e98f38b5ae0af88f"
  },
  "kernelspec": {
   "display_name": "Python 3.9.7 64-bit ('base': conda)",
   "language": "python",
   "name": "python3"
  },
  "language_info": {
   "codemirror_mode": {
    "name": "ipython",
    "version": 3
   },
   "file_extension": ".py",
   "mimetype": "text/x-python",
   "name": "python",
   "nbconvert_exporter": "python",
   "pygments_lexer": "ipython3",
   "version": "3.9.7"
  },
  "orig_nbformat": 4
 },
 "nbformat": 4,
 "nbformat_minor": 2
}
