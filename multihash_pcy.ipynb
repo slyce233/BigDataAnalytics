{
 "cells": [
  {
   "cell_type": "code",
   "execution_count": 26,
   "metadata": {},
   "outputs": [],
   "source": [
    "import pandas as pd\n",
    "import numpy as np\n",
    "import time\n",
    "import matplotlib.pyplot as plt"
   ]
  },
  {
   "cell_type": "code",
   "execution_count": 22,
   "metadata": {},
   "outputs": [],
   "source": [
    "def h(values):\n",
    "    return sum([int(x) + 6 for x in values]) % 100000\n",
    "       \n",
    "\n",
    "def create_pairs(items):\n",
    "    pairs = []\n",
    "    items = [int(x) for x in items]\n",
    "    items = sorted (items)\n",
    "    for i in range(len(items)):\n",
    "        for j in range(i+1, len(items)):\n",
    "            pairs.append((items[i],items[j]))\n",
    "    return pairs"
   ]
  },
  {
   "cell_type": "code",
   "execution_count": 23,
   "metadata": {},
   "outputs": [],
   "source": [
    "retail = pd.read_csv('http://fimi.uantwerpen.be/data/retail.dat')\n",
    "records = retail.values.tolist()\n",
    "for i in range(len(records)):\n",
    "    records[i] = records[i][0].split()"
   ]
  },
  {
   "cell_type": "code",
   "execution_count": 24,
   "metadata": {},
   "outputs": [],
   "source": [
    "percentages = [0.2,0.4,0.6,0.8,1]\n",
    "thresholds = [0.01, 0.02, 0.05]\n",
    "samples = []\n",
    "durations = []\n",
    "\n",
    "# Loop through percentages and make random samples \n",
    "for percentage in percentages:\n",
    "    samples.append(records[0:int(len(records)*percentage)])"
   ]
  },
  {
   "cell_type": "code",
   "execution_count": 25,
   "metadata": {},
   "outputs": [
    {
     "name": "stdout",
     "output_type": "stream",
     "text": [
      "COMPUTING 20.0% OF DATASET\n",
      "\tFINISHED RUNNING THRESHOLD 0.01 \t228.5695559978485s\n",
      "\tFINISHED RUNNING THRESHOLD 0.02 \t110.82360076904297s\n",
      "\tFINISHED RUNNING THRESHOLD 0.05 \t81.99188280105591s\n",
      "COMPUTED 20.0% OF DATASET\t421.3850395679474s\n",
      "----------------------------------------------------------------------\n",
      "COMPUTING 40.0% OF DATASET\n",
      "\tFINISHED RUNNING THRESHOLD 0.01 \t348.4872450828552s\n",
      "\tFINISHED RUNNING THRESHOLD 0.02 \t231.37445998191833s\n",
      "\tFINISHED RUNNING THRESHOLD 0.05 \t263.334016084671s\n",
      "COMPUTED 40.0% OF DATASET\t843.1957211494446s\n",
      "----------------------------------------------------------------------\n",
      "COMPUTING 60.0% OF DATASET\n",
      "\tFINISHED RUNNING THRESHOLD 0.01 \t483.9296360015869s\n",
      "\tFINISHED RUNNING THRESHOLD 0.02 \t388.3340780735016s\n",
      "\tFINISHED RUNNING THRESHOLD 0.05 \t195.04093170166016s\n",
      "COMPUTED 60.0% OF DATASET\t1067.3046457767487s\n",
      "----------------------------------------------------------------------\n",
      "COMPUTING 80.0% OF DATASET\n",
      "\tFINISHED RUNNING THRESHOLD 0.01 \t395.63577818870544s\n",
      "\tFINISHED RUNNING THRESHOLD 0.02 \t300.8477289676666s\n",
      "\tFINISHED RUNNING THRESHOLD 0.05 \t329.1381151676178s\n",
      "COMPUTED 80.0% OF DATASET\t1025.6216223239899s\n",
      "----------------------------------------------------------------------\n",
      "COMPUTING 100% OF DATASET\n",
      "\tFINISHED RUNNING THRESHOLD 0.01 \t586.2805318832397s\n",
      "\tFINISHED RUNNING THRESHOLD 0.02 \t465.70560479164124s\n",
      "\tFINISHED RUNNING THRESHOLD 0.05 \t416.6929440498352s\n",
      "COMPUTED 100% OF DATASET\t1468.6790807247162s\n",
      "----------------------------------------------------------------------\n",
      "Durations: \t [228.5695559978485, 110.82360076904297, 81.99188280105591, 348.4872450828552, 231.37445998191833, 263.334016084671, 483.9296360015869, 388.3340780735016, 195.04093170166016, 395.63577818870544, 300.8477289676666, 329.1381151676178, 586.2805318832397, 465.70560479164124, 416.6929440498352]\n"
     ]
    }
   ],
   "source": [
    "c = 0\n",
    "# For loop to iterate trhough samples list\n",
    "for s in samples:\n",
    "    print(f'COMPUTING {percentages[c]*100}% OF DATASET')\n",
    "    for x in thresholds:\n",
    "        items = {}\n",
    "        hash_table = np.zeros(100000)\n",
    "        hash_table2 = np.zeros(100000)\n",
    "        support_threshold = len(s)*x\n",
    "\n",
    "        start = time.time()\n",
    "        for i in range(len(s)):\n",
    "            for j in range(len(s[i])):\n",
    "                if s[i][j] not in items:\n",
    "                    items[s[i][j]] = 0 \n",
    "                items[s[i][j]] += 1\n",
    "                pairs = create_pairs(s[i])\n",
    "                for pair in pairs:\n",
    "                    hash_table[h(pair)] += 1\n",
    "\n",
    "        for i in range(len(s)):\n",
    "            for j in range(len(s[i])):\n",
    "                pairs = create_pairs(s[i])\n",
    "                for pair in pairs:\n",
    "                    hash_table2[hash(pair) % 100000] += 1\n",
    "\n",
    "        C1 = pd.DataFrame({\n",
    "            'Itemset': items.keys(),\n",
    "            'Support': items.values()\n",
    "        })\n",
    "        L1 = C1.loc[(C1['Support']) >= support_threshold]\n",
    "\n",
    "        bitmap = np.zeros(100000, dtype=bool)\n",
    "        for i in range(len(bitmap)):\n",
    "            bitmap[i] = hash_table[i] >= support_threshold\n",
    "\n",
    "        bitmap2 = np.zeros(100000, dtype=bool)\n",
    "        for i in range(len(bitmap2)):\n",
    "            bitmap2[i] = hash_table2[i] >= support_threshold\n",
    "\n",
    "            \n",
    "        arr = []\n",
    "        for i in L1['Itemset']:\n",
    "            for j in L1['Itemset']:\n",
    "                if i == j:\n",
    "                    pass\n",
    "                else:\n",
    "                    for k in s:\n",
    "                        if i in k and j in k and [i,j,0] not in arr and [j,i,0] not in arr:\n",
    "                            arr.append([i,j,0])\n",
    "\n",
    "        for i in range(len(arr)):\n",
    "                    for j in records:\n",
    "                        if arr[i][0] in j and arr[i][1] in j and bitmap[h((arr[i][0],arr[i][1]))] and bitmap2[hash((arr[i][0],arr[i][1])) % 100000]:\n",
    "                            arr[i][2] += 1\n",
    "\n",
    "        C2 = pd.DataFrame(arr, columns=['Item 1','Item 2','Count'])\n",
    "        L2 = C2.loc[(C2['Count']) >= support_threshold]\n",
    "        end = time.time()\n",
    "        duration = end-start\n",
    "        durations.append(duration)\n",
    "        print(f'\\tFINISHED RUNNING THRESHOLD {x} \\t{duration}s')\n",
    "    print(f'COMPUTED {percentages[c]*100}% OF DATASET\\t{durations[-1]+durations[-2]+durations[-3]}s')    \n",
    "    c+=1\n",
    "    print('----------------------------------------------------------------------')\n",
    "print(\"Durations: \\t\",durations)"
   ]
  },
  {
   "cell_type": "code",
   "execution_count": 57,
   "metadata": {},
   "outputs": [
    {
     "data": {
      "image/png": "[encoded data removed]",
      "text/plain": [
       "<Figure size 432x288 with 1 Axes>"
      ]
     },
     "metadata": {
      "needs_background": "light"
     },
     "output_type": "display_data"
    }
   ],
   "source": [
    "x = np.arange(20, 120, 20)\n",
    "plt.title(\"Line graph\")\n",
    "plt.xlabel(\"Percentage of Dataset\")\n",
    "plt.ylabel(\"Time\")\n",
    "plt.plot(x, durations[0:13:3], color = \"red\", label = '0.01')\n",
    "plt.plot(x, durations[1:14:3], color = \"green\", label = '0.02')\n",
    "plt.plot(x, durations[2:15:3], color = \"blue\", label = '0.05')\n",
    "plt.legend()\n",
    "plt.show()"
   ]
  },
  {
   "cell_type": "code",
   "execution_count": null,
   "metadata": {},
   "outputs": [],
   "source": []
  }
 ],
 "metadata": {
  "interpreter": {
   "hash": "40d3a090f54c6569ab1632332b64b2c03c39dcf918b08424e98f38b5ae0af88f"
  },
  "kernelspec": {
   "display_name": "Python 3.9.7 ('base')",
   "language": "python",
   "name": "python3"
  },
  "language_info": {
   "codemirror_mode": {
    "name": "ipython",
    "version": 3
   },
   "file_extension": ".py",
   "mimetype": "text/x-python",
   "name": "python",
   "nbconvert_exporter": "python",
   "pygments_lexer": "ipython3",
   "version": "3.9.7"
  },
  "orig_nbformat": 4
 },
 "nbformat": 4,
 "nbformat_minor": 2
}
